{
 "cells": [
  {
   "cell_type": "code",
   "execution_count": 1,
   "metadata": {},
   "outputs": [],
   "source": [
    "import sys\n",
    "sys.path.append( '../objects')\n",
    "\n",
    "import excercises\n",
    "from scrap_website import ScrapWebsite\n",
    "from muscleGroup import MuscleGroup\n"
   ]
  },
  {
   "cell_type": "code",
   "execution_count": 2,
   "metadata": {},
   "outputs": [
    {
     "name": "stdout",
     "output_type": "stream",
     "text": [
      "Schultern\n",
      "Die Schultermuskulatur umgibt das Schultergelenk. Im Bodybuilding wird üblicherweise zwischen drei Teilen der Schulter unterschieden: die vordere Schulter, die seitliche Schulter und die hintere Schulter. Die Schultermuskulatur bewegt und stabilisiert die Schultern nicht nur in eine, sondern in alle Richtungen. Wer seine Schulter optimal trainieren möchte, der sollte Übungen für alle drei Teile der Schulter in seinen Trainingsplan aufnehmen. Die meisten Grundübungen für den Oberkörper trainieren zumindest einen Teil der Schulter; doch gerade die seitliche Schulter kann auch durch Isolationsübungen trainiert werden.\n",
      "\n",
      "['Hintere Schulter', 'Seitliche Schulter', 'Vordere Schulter']\n",
      "['Reverse Flys', 'Butterfly Reverse', 'Rudern in Rückenlage', 'Reverse Flys am Kabelzug', 'Vorgebeugte Reverse Flys am Kabelzug', 'Kurzhantel-Schulterdrücken', 'Seitheben', 'Schulterdrücken', 'Aufrechtes Rudern', 'Seitheben am Kabelzug', 'Kurzhantel-Schulterdrücken', 'Frontheben', 'Schulterdrücken', 'Military Press', 'Frontheben mit dem Theraband']\n",
      "Rücken\n",
      "Der Rücken ist neben den Beinen die größte Muskelgruppe des Körpers. Der obere Rücken kann eingeteilt werden in den Trapezmuskel (musculus trapezius) und den Latissimus (musculus latissimus dorsi). Am unteren Rücken sitzen die Rückenstrecker (musculus erector spinae). Das Training des unteren Rückens wird häufig vernachlässigt, während ein „breites Kreuz“ als Männlichkeitsideal vielen männlichen Trainierenden schon Ansporn genug ist, dem oberen Rücken besondere Aufmerksamkeit zu schenken.\n",
      "In einem ausgewogenen Trainingsplan sollten beide Rückenpartien im Fokus stehen. Die besten Übungen für den unteren und oberen Rücken findet ihr auf diesen Seiten.\n",
      "\n",
      "['Oberer Rücken', 'Unterer Rücken']\n",
      "['Einarmiges Kurzhantel-Rudern', 'Klimmzüge', 'Rudern am Kabelzug', 'Langhantel-Rudern', 'Reverse Flys', 'Kreuzheben', 'Rückenstrecken', 'Rückenstrecken im Liegen', 'Sumo-Kreuzheben', 'Rückenstrecken am Gerät']\n",
      "Brust\n",
      "Auf dieser Unterseite befinden sich alle uns bekannten Brust-Übungen mit detaillierten Beschreibungen und Anschauungsmaterial. Die Brust besteht eigentlich aus nur einem großen Muskel: dem großen Brustmuskel (musculus pectoralis major). Allerdings wird im Kraftsport und Bodybuilding die Brust in obere, mittlere und untere Brust unterteilt. Das ist anatomisch korrekt, aber betrifft nicht die Funktionalität des Muskels: Egal, welche Brust-Übung ihr absolviert, es kontrahiert immer der komplette große Brustmuskel. Neben dem großen Brustmuskel befindet sich der Sägemuskel (musculus serratus anterior). Daher sind auch die Übungen für diesen Muskel in der untenstehenden Liste zu finden. Klassische Brust-Übungen, zum Beispiel Bankdrücken, Butterfly und Liegestütze, findet ihr in der Kategorie für mittlere Brust. Ein Mythos ist auch, dass man die innere oder äußere Brust gezielt trainieren könne. Die Muskelfasern verlaufen nämlich von außen nach innen und sind – so will es die Natur – immer an jeder Stelle gleich dick.\n",
      "\n",
      "['Mittlere Brust', 'Obere Brust', 'Sägemuskel', 'Untere Brust']\n",
      "['Bankdrücken', 'Liegestütze', 'Pull-Over / Überzüge', 'Fliegende', 'Kurzhantel-Bankdrücken', 'Schrägbankdrücken mit Kurzhanteln', 'Negativ-Liegestütze', 'Schrägbankdrücken', 'Fliegende auf der Schrägbank', 'Kabelzug-Fliegende auf der Schrägbank', 'Pull-Over / Überzüge', 'Pull-Over / Überzüge am Kabelzug', 'Pull-Over / Überzüge mit der Langhantel', 'Pull-Over / Überzüge am Gerät', 'Dips', 'Arnold-Dips', 'Negativ-Bankdrücken', 'Negativ-Bankdrücken mit Kurzhanteln', 'Negativ-Fliegende']\n",
      "Arme\n",
      "Übungen für die Arme gibt es viele, so scheint es. Tatsächlich sind die meisten Übungen aber lediglich Variationen der immer gleichen Bewegungen, denn letztlich haben die beiden Teile der Oberarm-Muskulatur nur zwei wesentliche Funktionen: Der Bizeps beugt den Arm, der Trizeps streckt den Arm. Übungen, bei denen die Arme gestreckt werden, sind  Trizeps-Übungen. Übungen, bei denen die Arme gebeugt werden, sind  Bizeps-Übungen.\n",
      "Die besten Übungen für die Arme stellen wir hier vor. Dabei unterscheiden wir selbstverständlich zwischen Übungen für den Bizeps und für den  Trizeps. Außerdem gibt es eine Kategorie mit Übungen für die  Unterarm-Muskulatur.\n",
      "\n",
      "['Bizeps', 'Trizeps', 'Unterarme']\n",
      "['Hammercurls', 'Langhantel-Curls', 'Konzentrationscurls', 'Scottcurls', 'Bizepscurls', 'Dips', 'Arnold-Dips', 'Trizepsdrücken am Kabelzug', 'Stirndrücken', 'Enges Bankdrücken', 'Hammercurls', 'Reverse-Curls', 'Unterarm-Curls (Obergriff)', 'Unterarm-Curls (Untergriff)', 'Unterarm-Curls hinter dem Rücken']\n",
      "Bauch\n",
      "Ein flacher oder austrainierter Bauch ist heute ein Inbegriff für körperliche Fitness. Dem zeitgenössischen Schönheitsideal entsprechend streben Frauen wie Männer danach, Bauchspeck abzubauen oder die Bauchmuskeln zu stählern.\n",
      "Wir haben alle wichtigen Übungen für den Bauch zusammengetragen. Da viele Bauchübungen sich auch ohne teures Equipment durchführen lassen, kann man den Bauch auch zu Hause trainieren. Im Fitnessstudio gibt es spezielle Geräte, die wir ebenfalls erklären. Wir haben die Bauchübungen zur besseren Übersicht in Übungen für die obere Bauchmuskulatur, untere Bauchmuskulatur und seitliche Bauchmuskulatur aufgeteilt.\n",
      "\n",
      "['Obere Bauchmuskeln', 'Seitliche Bauchmuskeln', 'Untere Bauchmuskeln']\n",
      "['Criss-Cross / Käfer', 'Sit-Ups auf der Negativbank', 'Crunches', 'Hüftheben', 'Reverse Crunches', 'Criss-Cross / Käfer', 'Seitliches Hüftheben', 'Seitliche Crunches zum Fuß', 'Scheibenwischer', 'Seitliches Beinabsenken', 'Criss-Cross / Käfer', 'Sit-Ups auf der Negativbank', 'Hängendes Beinheben', 'Beinheben im Liegen', 'Hüftheben']\n",
      "Po\n",
      "Po-Übungen gelten gemeinhin als Frauensache. Kaum einen Mann sieht man im Fitnessstudio mit Übungen für den Po beschäftigt, während viele Frauen diesen Körperteil in den Mittelpunkt ihres Trainingsprogramms stellen. Tatsächlich lässt sich gegen reine Po-Übungen einwenden, dass viele Bein-Übungen schon ein ausreichendes Training dieser Muskelgruppe darstellen. Andererseits spricht nichts dagegen, einen besonderen Trainingsfokus auf eine vielleicht ausgemachte Schwachstelle zu legen. Wir haben deshalb die besten Übungen für den Po für euch rausgesucht und erklärt. Unterschieden wird zwischen Übungen für den großen Gesäßmuskel (musculus gluteus maximus) und Übungen für die Abduktoren.\n",
      "\n",
      "['Abduktoren', 'Großer Gesäßmuskel']\n",
      "['Beinheben zur Seite auf allen Vieren', 'Abduktoren am Gerät', 'Abduktion am Kabelzug', 'Abduktoren-Beinheben', 'Kniebeugen', 'Rückenstrecken', 'Beinpresse', 'Kurzhantel-Ausfallschritt', 'Beckenheben']\n",
      "Beine\n",
      "Neben dem Rücken bilden die Beine die größte Muskelgruppe des Körpers. Um so überraschender daher, dass diese Muskelpartie vor allem von vielen männlichen Hobbyathleten vernachlässigt wird. Bei den Frauen sieht die Sache schon anders aus, denn da bilden die Beine gemeinsam mit Po und Bauch oft den Trainingsfokus.\n",
      "Wir haben die Übungen für die Oberschenkel aufgeteilt in Übungen für die Adduktoren, Übungen für den Beinbizeps und Übungen für den Quadrizeps. Außerdem gibt es eine Kategorie für Wadenübungen.\n",
      "\n",
      "['Oberschenkel', 'Wade']\n",
      "['Kniebeugen', 'Rückenstrecken', 'Beinpresse', 'Kurzhantel-Ausfallschritt', 'Beckenheben', 'Stehendes Wadenheben an der Multipresse', 'Wadenheben ohne Equipment', 'Kurzhantel-Wadenheben im Stehen', 'Stehendes Wadenheben am Gerät', 'Sitzendes Wadenheben am Gerät']\n"
     ]
    }
   ],
   "source": [
    "main_muscles= \"schultern\", \"ruecken\", \"brust\", \"arme\", \"bauch\", \"po\", \"beine\"\n",
    "\n",
    "for item in main_muscles:\n",
    "    ScrapWebsite.call_website(item)\n",
    "    muscleGroup1 = MuscleGroup(ScrapWebsite.muscle_title(), ScrapWebsite.category_description(), ScrapWebsite.subset_muscles(), ScrapWebsite.list_of_excercises())\n",
    "    print(muscleGroup1.muscle_title)\n",
    "    print(muscleGroup1.muscle_description)\n",
    "    print(muscleGroup1.subset_muscles)\n",
    "    print(muscleGroup1.all_excersices)\n",
    "\n",
    "#hier übersetzen und lange Texte zusammenfassen + in DB speichern\n"
   ]
  },
  {
   "cell_type": "code",
   "execution_count": null,
   "metadata": {},
   "outputs": [],
   "source": []
  },
  {
   "cell_type": "markdown",
   "metadata": {},
   "source": []
  }
 ],
 "metadata": {
  "interpreter": {
   "hash": "82cb8d1a423063935293774a55c35f6c4ab66d5744e036c7401e39c042ac78a5"
  },
  "kernelspec": {
   "display_name": "Python 3.9.7 64-bit ('iui': conda)",
   "language": "python",
   "name": "python3"
  },
  "language_info": {
   "codemirror_mode": {
    "name": "ipython",
    "version": 3
   },
   "file_extension": ".py",
   "mimetype": "text/x-python",
   "name": "python",
   "nbconvert_exporter": "python",
   "pygments_lexer": "ipython3",
   "version": "3.9.7"
  },
  "orig_nbformat": 4
 },
 "nbformat": 4,
 "nbformat_minor": 2
}

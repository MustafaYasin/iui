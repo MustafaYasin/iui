{
 "cells": [
  {
   "cell_type": "code",
   "execution_count": 1,
   "metadata": {},
   "outputs": [],
   "source": [
    "import sys\n",
    "sys.path.append( '../objects')\n",
    "\n",
    "from exercise import Exercise\n",
    "from scrap_website import ScrapWebsite\n",
    "from muscle_group import MuscleGroup\n"
   ]
  },
  {
   "cell_type": "code",
   "execution_count": 2,
   "metadata": {},
   "outputs": [],
   "source": [
    "main_muscles= [\"schultern\", \"ruecken\", \"brust\", \"arme\", \"bauch\", \"po\", \"beine\"]\n",
    "\n",
    " # replace with variables from db?\n",
    "sub_muscles_url = []\n",
    "list_of_exercises_url = []"
   ]
  },
  {
   "cell_type": "code",
   "execution_count": 3,
   "metadata": {},
   "outputs": [],
   "source": [
    "# need string replacements for url\n",
    "def replace_string(replace_string):\n",
    "    test =  replace_string.replace(\" / \", \"-\").replace(\" \", \"-\").lower()\n",
    "    return test.replace(\"ü\", \"ue\").replace(\"ä\", \"ae\").replace(\"ö\", \"oe\").replace(\"ß\", \"ss\")\n",
    "\n",
    "def add_url_muscles(new_muscle):\n",
    "     for s_muscle in new_muscle:\n",
    "        sub_muscles_url.append(replace_string(muscle_content.muscle_title) + \"/\" + replace_string(s_muscle))\n",
    "\n",
    "def add_url_exercises(new_exercises):\n",
    "     for exercise in new_exercises:\n",
    "        exercise_str_replace = replace_string(exercise)\n",
    "        if exercise_str_replace not in list_of_exercises_url:\n",
    "            list_of_exercises_url.append(exercise_str_replace)"
   ]
  },
  {
   "cell_type": "markdown",
   "metadata": {},
   "source": [
    "#### Get main muscle content"
   ]
  },
  {
   "cell_type": "code",
   "execution_count": 4,
   "metadata": {},
   "outputs": [],
   "source": [
    "for muscle in main_muscles:\n",
    "    ScrapWebsite.call_website(muscle)\n",
    "    muscle_content = MuscleGroup(ScrapWebsite.muscle_title(), ScrapWebsite.muscle_description(), ScrapWebsite.subset_muscles(), ScrapWebsite.list_of_exercises())\n",
    "\n",
    "    # Save required urls from sub muscles and exercises in array(delete/change for-loops if variables come from db?)\n",
    "    add_url_muscles(muscle_content.subset_muscles)\n",
    "    add_url_exercises(muscle_content.all_exercises)\n",
    "    \n",
    "    # ----> hier Objekt übersetzen und zusammenfassen + in Muscle DB speichern\n"
   ]
  },
  {
   "cell_type": "markdown",
   "metadata": {},
   "source": [
    "#### Get sub muscles content"
   ]
  },
  {
   "cell_type": "code",
   "execution_count": 5,
   "metadata": {},
   "outputs": [],
   "source": [
    "for s_muscle in sub_muscles_url:\n",
    "    ScrapWebsite.call_website(s_muscle)\n",
    "    muscle_content = MuscleGroup(ScrapWebsite.muscle_title(), ScrapWebsite.muscle_description(), \"\", ScrapWebsite.list_of_sub_exercises())\n",
    "\n",
    "    # Save required urls from sub muscles and exercises in array(delete/change for-loops if variables come from db?)\n",
    "    add_url_exercises(muscle_content.all_exercises)\n",
    "    \n",
    "    # ----> hier Objekt übersetzen und zusammenfassen + in Muscle DB speichern"
   ]
  },
  {
   "cell_type": "markdown",
   "metadata": {},
   "source": [
    "#### Get exercises content"
   ]
  },
  {
   "cell_type": "code",
   "execution_count": 6,
   "metadata": {},
   "outputs": [],
   "source": [
    "def clean_urls(clean_string):\n",
    "    if clean_string == \"pull-over-ueberzuege-mit-der-langhantel\":\n",
    "        return \"pull-over-ueberzuge-mit-der-langhantel\"\n",
    "    elif clean_string == \"sit-ups-auf-der-negativbank\":\n",
    "        return \"sit-ups-auf-der-negativban\"\n",
    "    elif clean_string == \"stehendes-wadenheben-mit-dem-theraband\":\n",
    "        return \"stehendes-wadenheben-mit-dem-teraband\"\n",
    "    else:\n",
    "        return clean_string"
   ]
  },
  {
   "cell_type": "code",
   "execution_count": 9,
   "metadata": {},
   "outputs": [
    {
     "name": "stdout",
     "output_type": "stream",
     "text": [
      "['Die vorgebeugten Reverse Flys sind eine eher weniger häufig zu beobachtende Übung auf der Trainingsfläche. Obwohl die Übung für die hintere Schulter und den Nacken hervorragend geeignet ist, möchten wir auf die nicht weniger effektiven Alternativen hinweisen. Verbreitet sind insbesondere die Reverse Flys am Kabelzug und die Reverse Flys am Butterfly-Gerät. Unter diesem Artikel findet ihr weitere Varianten mit Bild.', 'Die Reverse Flys zielen hauptsächlich auf die Stärkung des hinteren Teils des Deltamuskels (musculus deltoideus pars spinalis) und des mittleren Teils des Kapuzenmuskels (musculus trapezius pars transversa).']\n",
      "['Das Butterfly Reverse-Gerät ist meist ein Kombigerät, an dem auch die Übung Butterfly traininert werden kann. Meist müssten die beiden „Arme“ an diesen Geräten mittels zweier Stellknöpfe oder -schrauben so verstellt werden, dass sie in Gerätenähe sind, das heißt die Bewegungsamplitude dort beginnen kann.', 'Trainiert werden vor allem der hintere Teil des Deltamuskels (musculus deltoideus pars spinalis) und die mittleren Fasern des Kapuzenmuskels (musculus trapezius pars transversa).']\n",
      "['In den Fitnessstudios eigentlich nie zu sehen ist das Rudern in Rückenlage unter einer Langhantelstange. Diese Übung ist am einfachsten zu absolvieren, wenn man eine Langhantel auf ein Powerrack legt. Zur Not lässt sich diese Übung jedoch auch auf einer Flachbank oder z.B. unter einem Tisch durchführen. Wer möchte, kann die Langhantelstange auch auf zwei auseinander positionierten Stühlen ablegen. Wichtig ist nur, dass du dich irgendwo festhalten und nach oben ziehen kannst.', 'Diese Übung trainiert wie alle Ruderübungen viele Teile des Rückens, im speziellen den Kapuzenmuskel (musculus trapezius), den hinteren Teil des Deltamuskels (musculus deltoideus pars clavicularis) und den breiten Rückenmuskel (musculus latissimus dorsi).']\n",
      "['Die Reverse Flys am Kabelzug sind eine nicht selten zu beobachtende Übung im Fitnesscenter. Die Übung trainiert vor allem die rückwärtige Schulterpartie und den Nacken, im Detail den hinteren Teil des Deltamuskels (musculus deltoideus pars spinalis) und den mittleren Teil des trapezförmigen Kapuzenmuskels (musculus trapezius pars transversa).', 'Die richtige Ausführung']\n",
      "['Sehr selten im Fitnessstudio zu beobachten sind die vorgebeugten Reverse Flys am Kabelzug. Grund hierfür dürfte wahrscheinlich die Tatsache sein, dass der Hintern nach hinten herausgestreckt wird, während der Oberkörper nach vorne gebeugt ist. In dieser Körperhaltung fühlen sich viele Menschen unwohl. Nichts desto trotz handelt es sich bei dieser Fitnessübung um eine der effektivsten Übungen für die hintere Schultermuskulatur.', 'Trainiert werden bei dieser Übung folglich besonders der hintere Teil des Deltamuskels (musculus deltoideus pars spinalis) und die mittleren Fasern des Kapuzenmuskels (musculus trapezius pars transversa).']\n",
      "['Das Kurzhantel-Schulterdrücken ist wohl die populärste Übung für die Schultermuskulatur. Im Fokus dieser Übung steht vor allem der mittlere Teil des Deltamuskels (musculus deltoideus pars acromialis), allerdings werden auch die anderen beiden Teile des Deltamuskels mittrainiert. Diese Übung lässt sich sowohl im Stehen als auch im Sitzen (mit und ohne Rückenlehne) durchführen.', 'Die richtige Ausführung']\n",
      "['Das Seitheben mit Kurzhanteln ist eine im Fitnessstudio häufig zu beobachtende Kräftigungsübung für die Schultern. Trainiert werden alle 3 Teile des Deltamuskels (musculus deltoideus), besonders aber der mittlere Teil des Deltamuskels (musculus deltoideus pars acromialis) sowie die oberen Fasern des Kapuzenmuskels (musculus trapezius pars descendens).', 'Die richtige Ausführung']\n",
      "['Der Klassiker schlechthin für das Trainig der Schulter ist das Schulterdrücken. Während der seitliche Teil des Deltamuskels (musculus deltoideus pars acromialis) immer beansprucht wird, entscheidet ein Herablassen der Langhantelstange vor oder hinter den Kopf, ob du mit dieser Übung verstärkt den vorderen (musculus deltoideus clavicularis) oder hinteren Teil (musculus deltoideus pars spinalis) der Schultern trainierst.', 'Daneben unterstützen Kapuzenmuskel (musculus trapezius), Trizeps (musculus triceps brachii) und Sägemuskel (musculus serratus anterior) die Ausführung der Bewegung.']\n",
      "['Das aufrechte Rudern mit der Langhantelstange ist eine klassische Übung zur Stärkung des Trapezmuskels. In der klassischen Variante wird sie mit der Langhantelstange ausgeführt, sie kann jedoch zur Schonung der Handgelenke auch mit einer SZ-Stange absolviert werden.', 'Im Zentrum dieser Übung steht das Training des Kapuzenmuskel (musculus trapezius) und vor allem den seitlichen Teils des Deltamuskels (musculus deltoideus pars clavicularis). Je enger dein Griff an der Stange ist, desto stärker forcierst du den Trainingseffekt auf den Kapuzenmuskel. Je weiter du greifst, desto stärker verschiebt sich der Trainingseffekt auf den Deltamuskel.']\n",
      "['Das Seitheben am Kabelzug ist ein gute Alternative zum Seitheben mit den Kurzhanteln. Auch hier trainiert ihr eure Deltamuskeln, insbesondere den mittleren Teil der Schulter (musculus deltoideus pars acromialis).', 'Die richtige Ausführung']\n",
      "['Das Frontheben ist wohl eine der bekannteren Übungen für die Schultern. Ob im Fitnessstudio, im Homegym oder unterwegs (z.B. mit 2 Wasserflaschen), diese Übung lässt sich eigentlich überall absolvieren.', 'Richtig ausgeführt ist diese Übung eine der effektivsten für den vorderen Deltamuskel (musculus deltoideus pars clavicularis). Aufgrund der simplen Bewegungsausführung ist diese Übung auch Fitnessanfängern zu empfehlen.']\n",
      "['Das Schulterdrücken im Stehen, auch bekannt als Military Press, zählt zu den Grundübungen und gilt als eine der ältesten Fitness-Übungen überhaupt. Im Stehen ausgeführt, trainierst du mit dem Schulterdrücken nicht nur die Schultern und den Trizeps, sondern vor allem auch deine Rumpfmuskulatur, die deinen Körper während der Übung stabilisiert und das Gewicht über deinem Kopf ausbalancieren hilft.', 'In den meisten Fitnessstudios ist eine Variante der Military Press populär, die im Sitzen ausgeführt wird. Wir erklären sie in unserem Artikel Schulterdrücken.']\n",
      "['Wer keine Kurz- oder Langhantel zur Hand hat, kann auch mit dem Theraband Frontheben für die vordere Schulter absolvieren.', 'Auch hier trainierst du besonders den vorderen Teil des Deltamuskels (musculus deltoideus pars clavicularis), während natürlich die anderen beiden Teile (musculus deltoideus pars\\xa0acromialis et spinalis) mittrainiert werden. Ebenfalls leicht mitbeansprucht werden der Kapuzenmuskel (musculus trapezius) und der Sägemuskel (musculus serratus anterior).']\n",
      "['Das einarmige Kurzhantel-Rudern auf einer flachen oder leicht schräg gestellten Bank ist die einfache Variante des Kurzhantel- oder Langhantel-Ruderns. Der Vorteil ist, dass man sich mit Knie und Arm an einer Bank abstützt, um dem Körper so mehr Stabilität zu verleihen. Hinzu kommt, dass nur ein Arm beansprucht wird. Folglich können der hintere Teil des Deltamuskels (musculus deltoideus pars clavicularis), der Kapuzenmuskel (musculus trapezius) und große Rückenmuskel (musculus latissimus dorsi) mit höherer Intensität trainiert werden.', 'Die richtige Ausführung']\n",
      "['Der Klimmzug gehört wohl zu den bekanntesten aller Fitnessübungen. Nicht nur die Tatsache, dass er als eine der Grundübungen im Kraftsport gilt, sondern auch die Einfachheit seiner Durchführung und die Möglichkeit ihn ohne großartiges Studioequipment durchzuführen, haben ihn zu einer der beliebtesten Übungen überhaupt gemacht. Ob an einem Holzgebälk, Stahlträger oder Türrahmen – der Klimmzug lässt sich fast überall durchführen.', 'Je nach Wahl der Griffweite liegt der Trainingsfokus auf unterschiedlichen Muskelpartien. Insbesondere trainieren die Klimmzüge den breiten Rückenmuskel (musculus latissimus dorsi, daher auch bekannt als „Latissimus“), die unteren Fasern des Kapuzenmuskels (musculus trapezius pars ascendens), den großen und kleinen Rautenmuskel (musculus rhomboideus minor et major) und den großen Rundmuskel (musculus teres major).']\n",
      "['In vielen Fitnessstudios befindet sich an den Kabelzugtürmen oder separat ein Zugturm mit Ruderstation. Hierbei handelt es sich um einen tiefen Block, vor dem eine vergleichsweise tiefe Flachbank mit schräg gestellter Fußablage angebracht ist. Hier kann mit verschiedenen Griffstücken die Rückenmuskulatur trainiert werden. Neben den verschiedenen Griffstücken gibt es zwei Varianten der Übungsausführung. Bei der ersten Variante werden der breite Rückenmuskel, Kapuzenmuskel und hinterer Deltamuskel trainiert. Bei der zweiten Variante kommt noch das Training des unteren Rückens hinzu. Für welche Trainingsvariante du dich entscheidest, ist dir überlassen. Für gezieltes Training des oberen Rückens ist die erste Variante zu empfehlen. Wer seinen Rücken komplett mit dieser Übung im Trainingsplan abhaken möchte, sollte zur zweiten Variante greifen.', 'Die richtige Ausführung']\n",
      "['Das Langhantel-Rudern ist eine der Grundübungen des Krafttrainings. Sie stärkt die gesamte obere Rückenmuskulatur, vor allem aber den breiten Rückenmuskel (musculus latissimus dorsi), den Kapuzenmuskel (musculus trapezius) und den hinteren Teil des Deltamuskels (musculus deltoideus pars clavicularis). Diese Übung ist besonders für alle zu empfehlen, die täglich am Computer arbeiten, da sie die perfekte Ausgleichsübung darstellt: Während die Arbeit am PC mit nach innen gedrehten Schultern und mit den Handrücken nach oben stattfindet, werden bei dieser Übung die Schultern nach außen gedreht mit den Handflächen nach oben.', 'Für diese Übung ist es hilfreich, dass du die Technik des Kreuzhebens beherrschst, um die Langhantel sicher aufzunehmen und nach Abschluß der Übung wieder abzulegen.']\n",
      "['Kreuzheben ist eine umstrittene Übung – zu unrecht. Oft wird behauptet, sie sei rückenschädigend, doch das ist falsch. Im Gegenteil: Wenn man auf die richtige Ausführung achtet, stärkt Kreuzheben den Rücken. Deshalb wird sie auch im Rehasport eingesetzt. Doch auch aus dem Kraftsport und dem Bodybuilding ist das Kreuzheben nicht wegzudenken. Kreuzheben zählt zu den Grundübungen und stärkt den Rücken und die Beinmuskulatur.', 'Die richtige Ausführung']\n"
     ]
    },
    {
     "ename": "AttributeError",
     "evalue": "'NoneType' object has no attribute 'parent'",
     "output_type": "error",
     "traceback": [
      "\u001b[1;31m---------------------------------------------------------------------------\u001b[0m",
      "\u001b[1;31mAttributeError\u001b[0m                            Traceback (most recent call last)",
      "\u001b[1;32m~\\AppData\\Local\\Temp/ipykernel_107580/4205675653.py\u001b[0m in \u001b[0;36m<module>\u001b[1;34m\u001b[0m\n\u001b[0;32m      3\u001b[0m     \u001b[0mScrapWebsite\u001b[0m\u001b[1;33m.\u001b[0m\u001b[0mcall_website\u001b[0m\u001b[1;33m(\u001b[0m\u001b[0mex\u001b[0m\u001b[1;33m)\u001b[0m\u001b[1;33m\u001b[0m\u001b[1;33m\u001b[0m\u001b[0m\n\u001b[0;32m      4\u001b[0m     exercise_content = Exercise(\"\", ScrapWebsite.exercise_title(), ScrapWebsite.exercise_description(), ScrapWebsite.exercise_execution(), ScrapWebsite.equipment(),\n\u001b[1;32m----> 5\u001b[1;33m      ScrapWebsite.target_muscles(), ScrapWebsite.exercise_level(), ScrapWebsite.synonym_titles(), ScrapWebsite.supporting_muscles(), ScrapWebsite.muscle_image(), ScrapWebsite.video_links())\n\u001b[0m\u001b[0;32m      6\u001b[0m     \u001b[0mprint\u001b[0m\u001b[1;33m(\u001b[0m\u001b[0mexercise_content\u001b[0m\u001b[1;33m.\u001b[0m\u001b[0mexercise_description\u001b[0m\u001b[1;33m)\u001b[0m\u001b[1;33m\u001b[0m\u001b[1;33m\u001b[0m\u001b[0m\n",
      "\u001b[1;32mc:\\Users\\seidi\\Documents\\Coding\\IUI\\Backend\\nlp\\../objects\\scrap_website.py\u001b[0m in \u001b[0;36msupporting_muscles\u001b[1;34m()\u001b[0m\n\u001b[0;32m     58\u001b[0m \u001b[1;33m\u001b[0m\u001b[0m\n\u001b[0;32m     59\u001b[0m     \u001b[1;32mdef\u001b[0m \u001b[0msupporting_muscles\u001b[0m\u001b[1;33m(\u001b[0m\u001b[1;33m)\u001b[0m\u001b[1;33m:\u001b[0m\u001b[1;33m\u001b[0m\u001b[1;33m\u001b[0m\u001b[0m\n\u001b[1;32m---> 60\u001b[1;33m         \u001b[1;32mreturn\u001b[0m \u001b[0msoup\u001b[0m\u001b[1;33m.\u001b[0m\u001b[0mfind\u001b[0m\u001b[1;33m(\u001b[0m\u001b[0mstring\u001b[0m\u001b[1;33m=\u001b[0m\u001b[0mre\u001b[0m\u001b[1;33m.\u001b[0m\u001b[0mcompile\u001b[0m\u001b[1;33m(\u001b[0m\u001b[1;34m\"Unterstützende Muskulatur:\"\u001b[0m\u001b[1;33m)\u001b[0m\u001b[1;33m)\u001b[0m\u001b[1;33m.\u001b[0m\u001b[0mparent\u001b[0m\u001b[1;33m.\u001b[0m\u001b[0mnext_sibling\u001b[0m\u001b[1;33m.\u001b[0m\u001b[0mnext_sibling\u001b[0m\u001b[1;33m.\u001b[0m\u001b[0mtext\u001b[0m\u001b[1;33m\u001b[0m\u001b[1;33m\u001b[0m\u001b[0m\n\u001b[0m\u001b[0;32m     61\u001b[0m \u001b[1;33m\u001b[0m\u001b[0m\n\u001b[0;32m     62\u001b[0m     \u001b[1;32mdef\u001b[0m \u001b[0msynonym_titles\u001b[0m\u001b[1;33m(\u001b[0m\u001b[1;33m)\u001b[0m\u001b[1;33m:\u001b[0m\u001b[1;33m\u001b[0m\u001b[1;33m\u001b[0m\u001b[0m\n",
      "\u001b[1;31mAttributeError\u001b[0m: 'NoneType' object has no attribute 'parent'"
     ]
    }
   ],
   "source": [
    "# methods for exersice_description, video_links, exersice_exection does not work yet\n",
    "for ex in list_of_exercises_url:\n",
    "    ex = clean_urls(ex)\n",
    "    ScrapWebsite.call_website(ex)\n",
    "    exercise_content = Exercise(\"\", ScrapWebsite.exercise_title(), ScrapWebsite.exercise_description(), ScrapWebsite.exercise_execution(), ScrapWebsite.equipment(),\n",
    "     ScrapWebsite.target_muscles(), ScrapWebsite.exercise_level(), ScrapWebsite.synonym_titles(), ScrapWebsite.supporting_muscles(), ScrapWebsite.muscle_image(), ScrapWebsite.video_links())\n",
    "    #print(exercise_content.exercise_description)\n"
   ]
  },
  {
   "cell_type": "markdown",
   "metadata": {},
   "source": []
  }
 ],
 "metadata": {
  "interpreter": {
   "hash": "82cb8d1a423063935293774a55c35f6c4ab66d5744e036c7401e39c042ac78a5"
  },
  "kernelspec": {
   "display_name": "Python 3.9.7 64-bit ('iui': conda)",
   "language": "python",
   "name": "python3"
  },
  "language_info": {
   "codemirror_mode": {
    "name": "ipython",
    "version": 3
   },
   "file_extension": ".py",
   "mimetype": "text/x-python",
   "name": "python",
   "nbconvert_exporter": "python",
   "pygments_lexer": "ipython3",
   "version": "3.9.7"
  },
  "orig_nbformat": 4
 },
 "nbformat": 4,
 "nbformat_minor": 2
}

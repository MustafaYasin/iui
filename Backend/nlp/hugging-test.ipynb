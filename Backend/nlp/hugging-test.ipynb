{
 "cells": [
  {
   "cell_type": "code",
   "execution_count": 1,
   "id": "c5db78d1-d00a-46c5-9d67-c9787749a916",
   "metadata": {},
   "outputs": [],
   "source": [
    "from transformers import pipeline"
   ]
  },
  {
   "cell_type": "code",
   "execution_count": 2,
   "id": "e0c015cc-7bb1-4e52-a3af-959c518af964",
   "metadata": {},
   "outputs": [
    {
     "name": "stderr",
     "output_type": "stream",
     "text": [
      "No model was supplied, defaulted to sshleifer/distilbart-cnn-12-6 (https://huggingface.co/sshleifer/distilbart-cnn-12-6)\n"
     ]
    }
   ],
   "source": [
    "summarizer = pipeline(\"summarization\")"
   ]
  },
  {
   "cell_type": "code",
   "execution_count": 3,
   "id": "033bbec8-d09e-47c5-860a-21b8681b10ca",
   "metadata": {},
   "outputs": [],
   "source": [
    "doc_muscle_description = \"\"\"The shoulder muscles surround the shoulder joint. In bodybuilding, a distinction is usually made between three parts of the shoulder: the anterior shoulder, the lateral shoulder \n",
    "and the posterior shoulder. The shoulder muscles move and stabilize the shoulders not only in one direction, but in all directions. If you want to train your shoulder optimally, \n",
    "you should include exercises for all three parts of the shoulder in your training plan. Most basic upper body exercises train at least one part of the shoulder; however, the lateral \n",
    "shoulder in particular can also be trained through isolation exercises.\"\"\"\n",
    "\n",
    "doc_exercise_description = \"\"\"The pre-bent reverse fly is a rather less frequently observed exercise on the training floor. Although the exercise is excellent for the posterior shoulder and neck, we would like to point out the no less effective alternatives. Especially widespread are the reverse flys on the cable pulley and the reverse flys on the butterfly machine. Below this article you will find more variations with a picture.\n",
    "The Reverse Flys are mainly aimed at strengthening the posterior part of the deltoid muscle (musculus deltoideus pars spinalis) and the middle part of the hood muscle (musculus trapezius pars transversa).\"\"\"\n",
    "\n",
    "doc_execution_description = \"\"\"Lege dich auf den Boden und positioniere deine Hände etwa auf Brusthöhe ungefähr handbreit auseinander und um 45 Grad nach innen gedreht (Diamant-Form). Ob du die Liegestütze tatsächlich auf den flachen Händen machen willst, musst du selbst entscheiden. Grundsätzlich ist aufgrund der Belastungen für die Handgelenke davon abzuraten und zu einer alternativen Haltung der Hände (siehe Liegestütze) zu raten. Deine Beine sind komplett ausgestreckt und deine Fußspitzen stehen direkt nebeneinander auf dem Boden auf. Die Bauchmuskulatur ist fest angespannt und unterstützt den Körper maßgeblich dabei, die Körperspannung während der kompletten Übungsdurchführung zu halten.\n",
    "\n",
    "Jetzt atmest du aus und drückst gleichzeitig deinen Körper über ein Strecken der Arme nach oben. Dein Körper bleibt dabei gerade wie ein Brett und verliert keine Körperspannung. Halte zudem die Ellenbogen eng am Körper, um den Trizeps maximal zu beanspruchen. Am Ende dieser Phase bleiben deine Arme minimal gebeugt, sind also nicht komplett durchgestreckt.\n",
    "\n",
    "Im Anschluss senkst du den geraden Körper wieder nach unten, indem du die Arme im Ellenbogengelenk langsam und kontrolliert beugst. Hierbei atmest du ein. Während deiner Wiederholungen legst du den Körper nicht auf dem Boden ab, sondern hältst ihn wenige Zentimeter über dem Boden.\"\"\"\n",
    "\n",
    "article = doc_muscle_description"
   ]
  },
  {
   "cell_type": "code",
   "execution_count": 4,
   "id": "02931b31-0e5d-4ddd-b0a1-3e7dc76d14ea",
   "metadata": {},
   "outputs": [],
   "source": [
    "summary = summarizer(doc_execution_description, max_length=90, min_length=20, do_sample=False)"
   ]
  },
  {
   "cell_type": "code",
   "execution_count": 5,
   "id": "76faac88-2d12-4ed0-b5a6-841711fd4649",
   "metadata": {},
   "outputs": [
    {
     "name": "stdout",
     "output_type": "stream",
     "text": [
      "[{'summary_text': ' Lege dich auf den Boden und positioniere deine Hände etwa auf Brusthöhe ungefähr handbreit auseinander und um 45 Grad nach innen gedreht (Diamant-Form)'}]\n"
     ]
    }
   ],
   "source": [
    "print(summary)"
   ]
  },
  {
   "cell_type": "code",
   "execution_count": 6,
   "id": "7a8f63f9-348e-4ceb-8229-7f6255857657",
   "metadata": {},
   "outputs": [
    {
     "name": "stdout",
     "output_type": "stream",
     "text": [
      "The shoulder muscles surround the shoulder joint. In bodybuilding, a distinction is usually made between three parts of the shoulder: the anterior shoulder, the lateral shoulder and the posterior shoulder. The shoulder muscles move and stabilize the shoulders not only in one direction, but in all directions. If you want to train your shoulder optimally, you should include exercises for all three parts of the shoulder in your training plan. Most basic upper body exercises train at least one part of the shoulder; however, the lateral shoulder in particular can also be trained through isolation exercises.\n"
     ]
    }
   ],
   "source": [
    "from transformers import FSMTForConditionalGeneration, FSMTTokenizer\n",
    "mname = \"facebook/wmt19-de-en\"\n",
    "tokenizer = FSMTTokenizer.from_pretrained(mname)\n",
    "model = FSMTForConditionalGeneration.from_pretrained(mname)\n",
    "\n",
    "input_ids = tokenizer.encode(doc_execution_description, return_tensors=\"pt\")\n",
    "outputs = model.generate(input_ids)\n",
    "decoded = tokenizer.decode(outputs[0], skip_special_tokens=True)\n",
    "print(decoded) # Machine learning is great, isn't it?"
   ]
  },
  {
   "cell_type": "code",
   "execution_count": 8,
   "id": "a98eaa45-801e-4727-857b-17927bfb1e6c",
   "metadata": {},
   "outputs": [],
   "source": [
    "summary_en_1 = summarizer(decoded, max_length=50, min_length=10, do_sample=False)"
   ]
  },
  {
   "cell_type": "code",
   "execution_count": 9,
   "id": "0e9ea9aa-adb1-4cfc-9c29-f2fc729fb715",
   "metadata": {},
   "outputs": [
    {
     "name": "stdout",
     "output_type": "stream",
     "text": [
      "[{'summary_text': ' In bodybuilding, a distinction is usually made between the anterior shoulder, the lateral shoulder and the posterior shoulder . Most basic upper body exercises train at least one part of the shoulder . The lateral shoulder can be trained through isolation exercises .'}]\n"
     ]
    }
   ],
   "source": [
    "print(summary_en_1)"
   ]
  },
  {
   "cell_type": "code",
   "execution_count": 10,
   "id": "e7d4ec11-79c3-4a14-a562-8c1df4c20ebd",
   "metadata": {},
   "outputs": [],
   "source": [
    "summary_en_2 = summarizer(article, max_length=50, min_length=10, do_sample=False)"
   ]
  },
  {
   "cell_type": "code",
   "execution_count": 11,
   "id": "0509b09f-becc-4213-98ee-1649820aaaa5",
   "metadata": {},
   "outputs": [
    {
     "name": "stdout",
     "output_type": "stream",
     "text": [
      "[{'summary_text': ' In bodybuilding, a distinction is usually made between three parts of the shoulder: the anterior shoulder, the lateral shoulder and the posterior shoulder . The shoulder muscles move and stabilize the shoulders not only in one direction, but in all directions'}]\n"
     ]
    }
   ],
   "source": [
    "print(summary_en_2)"
   ]
  },
  {
   "cell_type": "code",
   "execution_count": 12,
   "id": "15ea1607-87f6-4a46-b392-f12db5dd4a77",
   "metadata": {},
   "outputs": [],
   "source": [
    "from transformers import T5Tokenizer, T5ForConditionalGeneration"
   ]
  },
  {
   "cell_type": "code",
   "execution_count": 17,
   "id": "3458a66a",
   "metadata": {},
   "outputs": [
    {
     "name": "stderr",
     "output_type": "stream",
     "text": [
      "Downloading: 100%|██████████| 773k/773k [00:00<00:00, 1.41MB/s]\n",
      "Downloading: 100%|██████████| 1.32M/1.32M [00:00<00:00, 1.99MB/s]\n",
      "Downloading: 100%|██████████| 1.17k/1.17k [00:00<00:00, 600kB/s]\n",
      "Downloading: 100%|██████████| 2.75G/2.75G [04:26<00:00, 11.1MB/s]\n"
     ]
    },
    {
     "name": "stdout",
     "output_type": "stream",
     "text": [
      ". Most basic upper body exercises train at least one part of the shoulder; however, the posterior shoulder can also be trained through isolation exercises.... The anterior shoulder muscles surround the joint. In bodybuilding, this distinction is usually made between three parts: the anterior and the lateral shoulder........\n"
     ]
    }
   ],
   "source": [
    "tokenizer = T5Tokenizer.from_pretrained(\"t5-large\")\n",
    "model = T5ForConditionalGeneration.from_pretrained(\"t5-large\")\n",
    "\n",
    "\n",
    "# generate summary\n",
    "input_ids = tokenizer.encode(article, return_tensors='pt')\n",
    "summary_ids = model.generate(input_ids,\n",
    "            min_length=50,\n",
    "            max_length=80,\n",
    "            num_beams=10,\n",
    "            repetition_penalty=2.5,\n",
    "            length_penalty=1.0,\n",
    "            early_stopping=True,\n",
    "            no_repeat_ngram_size=2,\n",
    "            use_cache=True,\n",
    "            do_sample = True,\n",
    "            temperature = 0.8,\n",
    "            top_k = 50,\n",
    "            top_p = 0.95)\n",
    "\n",
    "summary_text = tokenizer.decode(summary_ids[0], skip_special_tokens=True)\n",
    "print(summary_text)"
   ]
  },
  {
   "cell_type": "code",
   "execution_count": null,
   "id": "54450975",
   "metadata": {},
   "outputs": [],
   "source": []
  }
 ],
 "metadata": {
  "kernelspec": {
   "display_name": "Python 3",
   "language": "python",
   "name": "python3"
  },
  "language_info": {
   "codemirror_mode": {
    "name": "ipython",
    "version": 3
   },
   "file_extension": ".py",
   "mimetype": "text/x-python",
   "name": "python",
   "nbconvert_exporter": "python",
   "pygments_lexer": "ipython3",
   "version": "3.8.8"
  }
 },
 "nbformat": 4,
 "nbformat_minor": 5
}

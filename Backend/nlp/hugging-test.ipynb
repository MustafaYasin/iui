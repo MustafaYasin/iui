{
 "cells": [
  {
   "cell_type": "code",
   "execution_count": 1,
   "id": "c5db78d1-d00a-46c5-9d67-c9787749a916",
   "metadata": {},
   "outputs": [],
   "source": [
    "#importing transformers to use the pretrained model\n",
    "import transformers\n",
    "from transformers import pipeline"
   ]
  },
  {
   "cell_type": "code",
   "execution_count": 2,
   "id": "e0c015cc-7bb1-4e52-a3af-959c518af964",
   "metadata": {},
   "outputs": [
    {
     "name": "stderr",
     "output_type": "stream",
     "text": [
      "No model was supplied, defaulted to sshleifer/distilbart-cnn-12-6 (https://huggingface.co/sshleifer/distilbart-cnn-12-6)\n"
     ]
    }
   ],
   "source": [
    "#importing the summarizer model to summarize the crawled data\n",
    "summarizer = pipeline(\"summarization\")"
   ]
  },
  {
   "cell_type": "markdown",
   "id": "f6914f49",
   "metadata": {},
   "source": [
    "### Crawling data from differen exercise websites\n",
    "#### Method"
   ]
  },
  {
   "cell_type": "code",
   "execution_count": 3,
   "id": "033bbec8-d09e-47c5-860a-21b8681b10ca",
   "metadata": {},
   "outputs": [],
   "source": [
    "# Different articles for summarization\n",
    "# These articles are from the web will be crawled and summarized automatically\n",
    "\n",
    "\n",
    "\n",
    "\n",
    "# doc_muscle_description = \"\"\"The shoulder muscles surround the shoulder joint. In bodybuilding, a distinction is usually made between three parts of the shoulder: the anterior shoulder, the lateral shoulder \n",
    "# and the posterior shoulder. The shoulder muscles move and stabilize the shoulders not only in one direction, but in all directions. If you want to train your shoulder optimally, \n",
    "# you should include exercises for all three parts of the shoulder in your training plan. Most basic upper body exercises train at least one part of the shoulder; however, the lateral \n",
    "# shoulder in particular can also be trained through isolation exercises.\"\"\"\n",
    "\n",
    "# doc_exercise_description = \"\"\"The pre-bent reverse fly is a rather less frequently observed exercise on the training floor. Although the exercise is excellent for the posterior shoulder and neck, we would like to point out the no less effective alternatives. Especially widespread are the reverse flys on the cable pulley and the reverse flys on the butterfly machine. Below this article you will find more variations with a picture.\n",
    "# The Reverse Flys are mainly aimed at strengthening the posterior part of the deltoid muscle (musculus deltoideus pars spinalis) and the middle part of the hood muscle (musculus trapezius pars transversa).\"\"\"\n",
    "\n",
    "# doc_execution_description = \"\"\"Lege dich auf den Boden und positioniere deine Hände etwa auf Brusthöhe ungefähr handbreit auseinander und um 45 Grad nach innen gedreht (Diamant-Form). Ob du die Liegestütze tatsächlich auf den flachen Händen machen willst, musst du selbst entscheiden. Grundsätzlich ist aufgrund der Belastungen für die Handgelenke davon abzuraten und zu einer alternativen Haltung der Hände (siehe Liegestütze) zu raten. Deine Beine sind komplett ausgestreckt und deine Fußspitzen stehen direkt nebeneinander auf dem Boden auf. Die Bauchmuskulatur ist fest angespannt und unterstützt den Körper maßgeblich dabei, die Körperspannung während der kompletten Übungsdurchführung zu halten.\n",
    "\n",
    "# Jetzt atmest du aus und drückst gleichzeitig deinen Körper über ein Strecken der Arme nach oben. Dein Körper bleibt dabei gerade wie ein Brett und verliert keine Körperspannung. Halte zudem die Ellenbogen eng am Körper, um den Trizeps maximal zu beanspruchen. Am Ende dieser Phase bleiben deine Arme minimal gebeugt, sind also nicht komplett durchgestreckt.\n",
    "\n",
    "# Im Anschluss senkst du den geraden Körper wieder nach unten, indem du die Arme im Ellenbogengelenk langsam und kontrolliert beugst. Hierbei atmest du ein. Während deiner Wiederholungen legst du den Körper nicht auf dem Boden ab, sondern hältst ihn wenige Zentimeter über dem Boden.\"\"\"\n",
    "\n",
    "# article = doc_muscle_description"
   ]
  },
  {
   "cell_type": "code",
   "execution_count": 10,
   "id": "02931b31-0e5d-4ddd-b0a1-3e7dc76d14ea",
   "metadata": {},
   "outputs": [
    {
     "name": "stdout",
     "output_type": "stream",
     "text": [
      "[{'summary_text': ' Lege dich auf den Boden und positioniere deine Hände etwa auf Brusthöhe ungefähr handbreit auseinander und um 45 Grad nach innen gedreht (Diamant-Form)'}]\n"
     ]
    }
   ],
   "source": [
    "#Summerzize the german article\n",
    "summary = summarizer(doc_execution_description, max_length=90, min_length=20, do_sample=False)\n",
    "print(summary)"
   ]
  },
  {
   "cell_type": "code",
   "execution_count": 11,
   "id": "7a8f63f9-348e-4ceb-8229-7f6255857657",
   "metadata": {},
   "outputs": [
    {
     "name": "stdout",
     "output_type": "stream",
     "text": [
      "Lie on the floor and position your hands approximately palm width apart at chest level and rotate inwards by 45 degrees (diamond shape). Whether you actually want to do the push-ups on the flat hands, you have to decide for yourself. Basically, due to the stresses on the wrists, it is advisable to dissuade and to advise an alternative position of the hands (see push-ups). Your legs are completely stretched out and your toes stand directly next to each other on the floor. The abdominal muscles are firmly tensed and support the body considerably to maintain the body tension during the complete exercis.Now exhale and simultaneously push your body upwards by stretching your arms. Your body stays straight like a board and does not lose any body tension. Also, keep the elbows close to the body to put maximum stress on the triceps. At the end of this phase\n"
     ]
    }
   ],
   "source": [
    "# Translate the german article to english\n",
    "\n",
    "from transformers import FSMTForConditionalGeneration, FSMTTokenizer\n",
    "mname = \"facebook/wmt19-de-en\"\n",
    "tokenizer = FSMTTokenizer.from_pretrained(mname)\n",
    "model = FSMTForConditionalGeneration.from_pretrained(mname)\n",
    "\n",
    "input_ids = tokenizer.encode(doc_execution_description, return_tensors=\"pt\")\n",
    "outputs = model.generate(input_ids)\n",
    "decoded = tokenizer.decode(outputs[0], skip_special_tokens=True)\n",
    "print(decoded) # Machine learning is great, isn't it?"
   ]
  },
  {
   "cell_type": "code",
   "execution_count": 8,
   "id": "a98eaa45-801e-4727-857b-17927bfb1e6c",
   "metadata": {},
   "outputs": [],
   "source": [
    "# Summarize the english article which was translated from German\n",
    "summary_en_1 = summarizer(decoded, max_length=50, min_length=10, do_sample=False)\n",
    "print(summary_en_1)"
   ]
  },
  {
   "cell_type": "code",
   "execution_count": null,
   "id": "54450975",
   "metadata": {},
   "outputs": [],
   "source": []
  }
 ],
 "metadata": {
  "kernelspec": {
   "display_name": "Python 3",
   "language": "python",
   "name": "python3"
  },
  "language_info": {
   "codemirror_mode": {
    "name": "ipython",
    "version": 3
   },
   "file_extension": ".py",
   "mimetype": "text/x-python",
   "name": "python",
   "nbconvert_exporter": "python",
   "pygments_lexer": "ipython3",
   "version": "3.8.8"
  }
 },
 "nbformat": 4,
 "nbformat_minor": 5
}

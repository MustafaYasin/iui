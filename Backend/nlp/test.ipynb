{
 "cells": [
  {
   "cell_type": "code",
   "execution_count": 2,
   "id": "583769e5-3aa1-4dd2-963d-3908763dc8e6",
   "metadata": {},
   "outputs": [
    {
     "name": "stdout",
     "output_type": "stream",
     "text": [
      "Collecting transformers\n",
      "  Downloading transformers-4.15.0-py3-none-any.whl (3.4 MB)\n",
      "\u001b[K     |████████████████████████████████| 3.4 MB 3.1 MB/s eta 0:00:01\n",
      "\u001b[?25hRequirement already satisfied: filelock in /opt/anaconda3/lib/python3.8/site-packages (from transformers) (3.0.12)\n",
      "Requirement already satisfied: numpy>=1.17 in /opt/anaconda3/lib/python3.8/site-packages (from transformers) (1.20.1)\n",
      "Requirement already satisfied: requests in /opt/anaconda3/lib/python3.8/site-packages (from transformers) (2.25.1)\n",
      "Requirement already satisfied: regex!=2019.12.17 in /opt/anaconda3/lib/python3.8/site-packages (from transformers) (2021.4.4)\n",
      "Collecting sacremoses\n",
      "  Downloading sacremoses-0.0.46-py3-none-any.whl (895 kB)\n",
      "\u001b[K     |████████████████████████████████| 895 kB 8.7 MB/s eta 0:00:01\n",
      "\u001b[?25hRequirement already satisfied: tqdm>=4.27 in /opt/anaconda3/lib/python3.8/site-packages (from transformers) (4.59.0)\n",
      "Requirement already satisfied: pyyaml>=5.1 in /opt/anaconda3/lib/python3.8/site-packages (from transformers) (5.4.1)\n",
      "Collecting tokenizers<0.11,>=0.10.1\n",
      "  Downloading tokenizers-0.10.3-cp38-cp38-macosx_10_11_x86_64.whl (2.2 MB)\n",
      "\u001b[K     |████████████████████████████████| 2.2 MB 8.0 MB/s eta 0:00:01\n",
      "\u001b[?25hRequirement already satisfied: packaging>=20.0 in /opt/anaconda3/lib/python3.8/site-packages (from transformers) (20.9)\n",
      "Collecting huggingface-hub<1.0,>=0.1.0\n",
      "  Downloading huggingface_hub-0.2.1-py3-none-any.whl (61 kB)\n",
      "\u001b[K     |████████████████████████████████| 61 kB 2.1 MB/s eta 0:00:011\n",
      "\u001b[?25hRequirement already satisfied: typing-extensions>=3.7.4.3 in /opt/anaconda3/lib/python3.8/site-packages (from huggingface-hub<1.0,>=0.1.0->transformers) (3.7.4.3)\n",
      "Requirement already satisfied: pyparsing>=2.0.2 in /opt/anaconda3/lib/python3.8/site-packages (from packaging>=20.0->transformers) (2.4.7)\n",
      "Requirement already satisfied: chardet<5,>=3.0.2 in /opt/anaconda3/lib/python3.8/site-packages (from requests->transformers) (4.0.0)\n",
      "Requirement already satisfied: idna<3,>=2.5 in /opt/anaconda3/lib/python3.8/site-packages (from requests->transformers) (2.10)\n",
      "Requirement already satisfied: certifi>=2017.4.17 in /opt/anaconda3/lib/python3.8/site-packages (from requests->transformers) (2020.12.5)\n",
      "Requirement already satisfied: urllib3<1.27,>=1.21.1 in /opt/anaconda3/lib/python3.8/site-packages (from requests->transformers) (1.26.4)\n",
      "Requirement already satisfied: six in /opt/anaconda3/lib/python3.8/site-packages (from sacremoses->transformers) (1.15.0)\n",
      "Requirement already satisfied: joblib in /opt/anaconda3/lib/python3.8/site-packages (from sacremoses->transformers) (1.0.1)\n",
      "Requirement already satisfied: click in /opt/anaconda3/lib/python3.8/site-packages (from sacremoses->transformers) (7.1.2)\n",
      "Installing collected packages: tokenizers, sacremoses, huggingface-hub, transformers\n",
      "Successfully installed huggingface-hub-0.2.1 sacremoses-0.0.46 tokenizers-0.10.3 transformers-4.15.0\n",
      "Note: you may need to restart the kernel to use updated packages.\n"
     ]
    }
   ],
   "source": [
    "pip install transformers"
   ]
  },
  {
   "cell_type": "code",
   "execution_count": 1,
   "id": "c5db78d1-d00a-46c5-9d67-c9787749a916",
   "metadata": {},
   "outputs": [],
   "source": [
    "from transformers import pipeline"
   ]
  },
  {
   "cell_type": "code",
   "execution_count": 3,
   "id": "e0c015cc-7bb1-4e52-a3af-959c518af964",
   "metadata": {},
   "outputs": [
    {
     "name": "stderr",
     "output_type": "stream",
     "text": [
      "No model was supplied, defaulted to sshleifer/distilbart-cnn-12-6 (https://huggingface.co/sshleifer/distilbart-cnn-12-6)\n"
     ]
    },
    {
     "data": {
      "application/vnd.jupyter.widget-view+json": {
       "model_id": "8b5338ba69764b35b6e9953e610716be",
       "version_major": 2,
       "version_minor": 0
      },
      "text/plain": [
       "Downloading:   0%|          | 0.00/1.76k [00:00<?, ?B/s]"
      ]
     },
     "metadata": {},
     "output_type": "display_data"
    },
    {
     "data": {
      "application/vnd.jupyter.widget-view+json": {
       "model_id": "cd4a8b27e1994511b3db704441a01e33",
       "version_major": 2,
       "version_minor": 0
      },
      "text/plain": [
       "Downloading:   0%|          | 0.00/1.14G [00:00<?, ?B/s]"
      ]
     },
     "metadata": {},
     "output_type": "display_data"
    },
    {
     "data": {
      "application/vnd.jupyter.widget-view+json": {
       "model_id": "db83dea99ca544c8a95a5a8157bb0738",
       "version_major": 2,
       "version_minor": 0
      },
      "text/plain": [
       "Downloading:   0%|          | 0.00/26.0 [00:00<?, ?B/s]"
      ]
     },
     "metadata": {},
     "output_type": "display_data"
    },
    {
     "data": {
      "application/vnd.jupyter.widget-view+json": {
       "model_id": "a9bfdb1e717149aba40deece934b48e7",
       "version_major": 2,
       "version_minor": 0
      },
      "text/plain": [
       "Downloading:   0%|          | 0.00/878k [00:00<?, ?B/s]"
      ]
     },
     "metadata": {},
     "output_type": "display_data"
    },
    {
     "data": {
      "application/vnd.jupyter.widget-view+json": {
       "model_id": "3bfb0dbe088742beada92b900d822d94",
       "version_major": 2,
       "version_minor": 0
      },
      "text/plain": [
       "Downloading:   0%|          | 0.00/446k [00:00<?, ?B/s]"
      ]
     },
     "metadata": {},
     "output_type": "display_data"
    }
   ],
   "source": [
    "summarizer = pipeline(\"summarization\")"
   ]
  },
  {
   "cell_type": "code",
   "execution_count": 6,
   "id": "033bbec8-d09e-47c5-860a-21b8681b10ca",
   "metadata": {},
   "outputs": [],
   "source": [
    "article = \"\"\"Der Eintritt der Geschlechtsreife wird beim weiblichen Hund durch die erste Läufigkeit gekennzeichnet, die im Alter von 7 bis 14 Monaten auftritt. Rüden erlangen ihre Zeugungsfähigkeit in etwa dem gleichen Alter. Kleinere Hunde werden im Allgemeinen früher geschlechtsreif als Hunde großer Rassen.\n",
    "\n",
    "Hündinnen unterliegen einer ausgeprägten, etwa halb- bis dreivierteljährlichen Brunstperiodik, die nicht an Jahreszeiten gebunden ist. Mit einem durchschnittlichen Läufigkeitsintervall von fünf bis neun Monaten zählen sie zu den saisonal diöstrischen Tieren. Männliche Haushunde sind – anders als Wölfe – ab der Geschlechtsreife stets deckbereit.\n",
    "\n",
    "Der Sexualzyklus ist in vier Phasen unterteilt. Mit dem Beginn der Vorbrunst (Proöstrus) kommt es zu einem Anschwellen der Vulva und dem Austritt von blutigem bis fleischwasserfarbigem Sekret, welches die Hündin für Rüden attraktiv macht. Eine Deckbereitschaft ihrerseits ist jedoch noch nicht gegeben. Die Dauer der Vorbrunst beträgt – individuell unterschiedlich – 4 bis 21 Tage. Ihr schließt sich die Brunst (Östrus) an, welche von Deckbereitschaft der Hündin und Fruchtbarkeit gekennzeichnet ist. Der Scheidenausfluss wird heller, und die Hündin „präsentiert“ sich den Rüden, d. h., sie „steht“ und legt einladend die Rute auf eine Seite (Standhitze). Die Phase der Brunst beträgt zwei bis zwölf Tage. Zusammen mit der Vorbrunst wird sie als Läufigkeit bezeichnet. Hieran schließt sich der Metöstrus an, in dessen Verlauf über eine Dauer von neun bis zwölf Wochen Rückbildungs- und Regenerationsvorgänge an der Gebärmutter erfolgen. In der vierten Phase (Anöstrus) fehlt jegliches Anzeichen sexueller Aktivität. Dieser Abschnitt dauert zwei bis sechs Monate.\"\"\""
   ]
  },
  {
   "cell_type": "code",
   "execution_count": null,
   "id": "2ef477ff-07ca-49cf-8c39-e08021890079",
   "metadata": {},
   "outputs": [],
   "source": []
  },
  {
   "cell_type": "code",
   "execution_count": 7,
   "id": "02931b31-0e5d-4ddd-b0a1-3e7dc76d14ea",
   "metadata": {},
   "outputs": [],
   "source": [
    "summary = summarizer(article, max_length=90, min_length=20, do_sample=False)"
   ]
  },
  {
   "cell_type": "code",
   "execution_count": 8,
   "id": "76faac88-2d12-4ed0-b5a6-841711fd4649",
   "metadata": {},
   "outputs": [
    {
     "name": "stdout",
     "output_type": "stream",
     "text": [
      "[{'summary_text': ' Der Eintritt der Geschlechtsreife wird beim weiblichen Hund durch die erste Läufigkeit gekennzeichnet . Hündinnen unterliegen einer ausgeprägten, etwa halb- bis dreivierteljährlichen Brunstperiodik .'}]\n"
     ]
    }
   ],
   "source": [
    "print(summary)"
   ]
  },
  {
   "cell_type": "code",
   "execution_count": 10,
   "id": "7a8f63f9-348e-4ceb-8229-7f6255857657",
   "metadata": {},
   "outputs": [
    {
     "data": {
      "application/vnd.jupyter.widget-view+json": {
       "model_id": "187a204105864909af6ecfa558a7cc14",
       "version_major": 2,
       "version_minor": 0
      },
      "text/plain": [
       "Downloading:   0%|          | 0.00/829k [00:00<?, ?B/s]"
      ]
     },
     "metadata": {},
     "output_type": "display_data"
    },
    {
     "data": {
      "application/vnd.jupyter.widget-view+json": {
       "model_id": "218d8278e6904d3c9b1d51d4714263d8",
       "version_major": 2,
       "version_minor": 0
      },
      "text/plain": [
       "Downloading:   0%|          | 0.00/829k [00:00<?, ?B/s]"
      ]
     },
     "metadata": {},
     "output_type": "display_data"
    },
    {
     "data": {
      "application/vnd.jupyter.widget-view+json": {
       "model_id": "e4d3cfd25b27478b93c50d617f046afc",
       "version_major": 2,
       "version_minor": 0
      },
      "text/plain": [
       "Downloading:   0%|          | 0.00/308k [00:00<?, ?B/s]"
      ]
     },
     "metadata": {},
     "output_type": "display_data"
    },
    {
     "data": {
      "application/vnd.jupyter.widget-view+json": {
       "model_id": "282adfe5c0a34b65afa2a0ac7a1bdb85",
       "version_major": 2,
       "version_minor": 0
      },
      "text/plain": [
       "Downloading:   0%|          | 0.00/67.0 [00:00<?, ?B/s]"
      ]
     },
     "metadata": {},
     "output_type": "display_data"
    },
    {
     "data": {
      "application/vnd.jupyter.widget-view+json": {
       "model_id": "54770feabd1842108745415f3e7367e4",
       "version_major": 2,
       "version_minor": 0
      },
      "text/plain": [
       "Downloading:   0%|          | 0.00/825 [00:00<?, ?B/s]"
      ]
     },
     "metadata": {},
     "output_type": "display_data"
    },
    {
     "data": {
      "application/vnd.jupyter.widget-view+json": {
       "model_id": "96fd55b85475446dae68dc4881e561c0",
       "version_major": 2,
       "version_minor": 0
      },
      "text/plain": [
       "Downloading:   0%|          | 0.00/1.00G [00:00<?, ?B/s]"
      ]
     },
     "metadata": {},
     "output_type": "display_data"
    },
    {
     "name": "stdout",
     "output_type": "stream",
     "text": [
      "The shoulder muscles surround the shoulder joint. In bodybuilding, three parts of the shoulder are usually distinguished: the front shoulder, the side shoulder, and the rear shoulder. Shoulder muscles move and stabilize the shoulders not only in one, but in all directions. If you want to exercise your shoulder optimally, you should include exercises for all three parts of the shoulder in your training plan. Most basic exercises for the torso train at least part of the shoulder; but especially the side shoulder can also be exercised by means of isolation exercises.\n"
     ]
    }
   ],
   "source": [
    "from transformers import FSMTForConditionalGeneration, FSMTTokenizer\n",
    "mname = \"facebook/wmt19-de-en\"\n",
    "tokenizer = FSMTTokenizer.from_pretrained(mname)\n",
    "model = FSMTForConditionalGeneration.from_pretrained(mname)\n",
    "\n",
    "input = \"Die Schultermuskulatur umgibt das Schultergelenk. Im Bodybuilding wird üblicherweise zwischen drei Teilen der Schulter unterschieden: die vordere Schulter, die seitliche Schulter und die hintere Schulter. Die Schultermuskulatur bewegt und stabilisiert die Schultern nicht nur in eine, sondern in alle Richtungen. Wer seine Schulter optimal trainieren möchte, der sollte Übungen für alle drei Teile der Schulter in seinen Trainingsplan aufnehmen. Die meisten Grundübungen für den Oberkörper trainieren zumindest einen Teil der Schulter; doch gerade die seitliche Schulter kann auch durch Isolationsübungen trainiert werden.\"\n",
    "input_ids = tokenizer.encode(input, return_tensors=\"pt\")\n",
    "outputs = model.generate(input_ids)\n",
    "decoded = tokenizer.decode(outputs[0], skip_special_tokens=True)\n",
    "print(decoded) # Machine learning is great, isn't it?"
   ]
  },
  {
   "cell_type": "code",
   "execution_count": 11,
   "id": "381c9b2b-42e6-4639-824b-be975c1a7394",
   "metadata": {},
   "outputs": [],
   "source": [
    "article_2 = \"The shoulder muscles surround the shoulder joint. In bodybuilding, a distinction is usually made between three parts of the shoulder: the anterior shoulder, the lateral shoulder and the posterior shoulder. The shoulder muscles move and stabilize the shoulders not only in one direction, but in all directions. If you want to train your shoulder optimally, you should include exercises for all three parts of the shoulder in your training plan. Most basic exercises for the upper body train at least one part of the shoulder; however, the lateral shoulder in particular can also be trained through isolation exercises.\""
   ]
  },
  {
   "cell_type": "code",
   "execution_count": 13,
   "id": "a98eaa45-801e-4727-857b-17927bfb1e6c",
   "metadata": {},
   "outputs": [],
   "source": [
    "summary_en_1 = summarizer(decoded, max_length=50, min_length=10, do_sample=False)"
   ]
  },
  {
   "cell_type": "code",
   "execution_count": 15,
   "id": "0e9ea9aa-adb1-4cfc-9c29-f2fc729fb715",
   "metadata": {},
   "outputs": [
    {
     "name": "stdout",
     "output_type": "stream",
     "text": [
      "[{'summary_text': ' In bodybuilding, three parts of the shoulder are usually distinguished: the front shoulder, the side shoulder, and the rear shoulder . Shoulder muscles move and stabilize the shoulders not only in one, but in all directions .'}]\n"
     ]
    }
   ],
   "source": [
    "print(summary_en_1)"
   ]
  },
  {
   "cell_type": "code",
   "execution_count": null,
   "id": "fb620798-3a38-40c0-bb7f-ed0b3021c507",
   "metadata": {},
   "outputs": [],
   "source": []
  },
  {
   "cell_type": "code",
   "execution_count": 14,
   "id": "e7d4ec11-79c3-4a14-a562-8c1df4c20ebd",
   "metadata": {},
   "outputs": [],
   "source": [
    "summary_en_2 = summarizer(article_2, max_length=50, min_length=10, do_sample=False)"
   ]
  },
  {
   "cell_type": "code",
   "execution_count": 16,
   "id": "0509b09f-becc-4213-98ee-1649820aaaa5",
   "metadata": {},
   "outputs": [
    {
     "name": "stdout",
     "output_type": "stream",
     "text": [
      "[{'summary_text': ' In bodybuilding, a distinction is usually made between the anterior shoulder, the lateral shoulder and the posterior shoulder . Most basic exercises for the upper body train at least one part of the shoulder . The lateral shoulder in particular can also be trained'}]\n"
     ]
    }
   ],
   "source": [
    "print(summary_en_2)"
   ]
  },
  {
   "cell_type": "code",
   "execution_count": null,
   "id": "25d5e503-e2e4-4050-b96e-9eb598b99105",
   "metadata": {},
   "outputs": [],
   "source": []
  },
  {
   "cell_type": "code",
   "execution_count": null,
   "id": "1a429ea9-deb0-4bc5-8579-4b9bcd89500e",
   "metadata": {},
   "outputs": [],
   "source": []
  },
  {
   "cell_type": "code",
   "execution_count": null,
   "id": "d5bdad34-1d92-4b07-93bc-ef4f416622cb",
   "metadata": {},
   "outputs": [],
   "source": []
  },
  {
   "cell_type": "code",
   "execution_count": null,
   "id": "15ea1607-87f6-4a46-b392-f12db5dd4a77",
   "metadata": {},
   "outputs": [],
   "source": []
  }
 ],
 "metadata": {
  "kernelspec": {
   "display_name": "Python 3",
   "language": "python",
   "name": "python3"
  },
  "language_info": {
   "codemirror_mode": {
    "name": "ipython",
    "version": 3
   },
   "file_extension": ".py",
   "mimetype": "text/x-python",
   "name": "python",
   "nbconvert_exporter": "python",
   "pygments_lexer": "ipython3",
   "version": "3.8.8"
  }
 },
 "nbformat": 4,
 "nbformat_minor": 5
}

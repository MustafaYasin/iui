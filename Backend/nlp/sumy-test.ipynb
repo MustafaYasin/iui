{
 "cells": [
  {
   "cell_type": "code",
   "execution_count": null,
   "metadata": {},
   "outputs": [],
   "source": [
    "import sumy\n",
    "from sumy.parsers.plaintext import PlaintextParser\n",
    "from sumy.nlp.tokenizers import Tokenizer\n",
    "from sumy.summarizers.lex_rank import LexRankSummarizer"
   ]
  },
  {
   "cell_type": "code",
   "execution_count": 8,
   "metadata": {},
   "outputs": [
    {
     "name": "stderr",
     "output_type": "stream",
     "text": [
      "[nltk_data] Downloading package punkt to\n",
      "[nltk_data]     C:\\Users\\seidi\\AppData\\Roaming\\nltk_data...\n",
      "[nltk_data]   Unzipping tokenizers\\punkt.zip.\n"
     ]
    },
    {
     "data": {
      "text/plain": [
       "True"
      ]
     },
     "execution_count": 8,
     "metadata": {},
     "output_type": "execute_result"
    }
   ],
   "source": [
    "import nltk\n",
    "nltk.download('punkt')"
   ]
  },
  {
   "cell_type": "code",
   "execution_count": 33,
   "metadata": {},
   "outputs": [],
   "source": [
    "doc_muscle_description = \"\"\"The shoulder muscles surround the shoulder joint. In bodybuilding, a distinction is usually made between three parts of the shoulder: the anterior shoulder, the lateral shoulder \n",
    "and the posterior shoulder. The shoulder muscles move and stabilize the shoulders not only in one direction, but in all directions. If you want to train your shoulder optimally, \n",
    "you should include exercises for all three parts of the shoulder in your training plan. Most basic upper body exercises train at least one part of the shoulder; however, the lateral \n",
    "shoulder in particular can also be trained through isolation exercises.\"\"\"\n",
    "\n",
    "doc_exercise_description = \"\"\"The pre-bent reverse fly is a rather less frequently observed exercise on the training floor. Although the exercise is excellent for the posterior shoulder and neck, we would like to point out the no less effective alternatives. Especially widespread are the reverse flys on the cable pulley and the reverse flys on the butterfly machine. Below this article you will find more variations with a picture.\n",
    "The Reverse Flys are mainly aimed at strengthening the posterior part of the deltoid muscle (musculus deltoideus pars spinalis) and the middle part of the hood muscle (musculus trapezius pars transversa).\"\"\"\n",
    "\n",
    "doc_execution_description = \"\"\"Hold a dumbbell in each hand and stand about shoulder width apart. Bend your knees slightly and bend your upright upper body forward until it is parallel to the floor. Make sure that your entire back remains extended and especially that your lower back forms a slight hollow cross position. This is highly advisable to avoid back and disc injuries. Your arms with the dumbbells are down and almost fully extended.\n",
    "\n",
    "Now exhale and simultaneously move the dumbbells upward with your arms almost extended on both sides of your body. When you reach the end point of this movement phase at head height, you are training almost exclusively the back shoulder. If you bring the shoulder blades together at the end of the movement by bringing the arms up as far as the anatomy allows, the hood muscle will be used more.\n",
    "\n",
    "Then inhale again and simultaneously bring both dumbbells down slowly and in a controlled manner to the starting position.\"\"\"\n",
    "\n",
    "article = doc_muscle_description\n",
    "\n",
    "parser = PlaintextParser.from_string(article, Tokenizer(\"english\"))"
   ]
  },
  {
   "cell_type": "code",
   "execution_count": 31,
   "metadata": {},
   "outputs": [
    {
     "name": "stdout",
     "output_type": "stream",
     "text": [
      "(<Sentence: The shoulder muscles surround the shoulder joint.>, <Sentence: If you want to train your shoulder optimally, you should include exercises for all three parts of the shoulder in your training plan.>, <Sentence: Most basic upper body exercises train at least one part of the shoulder; however, the lateral shoulder in particular can also be trained through isolation exercises.>)\n"
     ]
    }
   ],
   "source": [
    "summarizer = LexRankSummarizer()\n",
    "summary = summarizer(parser.document, 3)\n",
    "print(summary)"
   ]
  },
  {
   "cell_type": "code",
   "execution_count": 29,
   "metadata": {},
   "outputs": [
    {
     "name": "stdout",
     "output_type": "stream",
     "text": [
      "(<Sentence: The pre-bent reverse fly is a rather less frequently observed exercise on the training floor.>, <Sentence: Especially widespread are the reverse flys on the cable pulley and the reverse flys on the butterfly machine.>, <Sentence: The Reverse Flys are mainly aimed at strengthening the posterior part of the deltoid muscle (musculus deltoideus pars spinalis) and the middle part of the hood muscle (musculus trapezius pars transversa).>)\n"
     ]
    }
   ],
   "source": [
    "from sumy.summarizers.luhn import LuhnSummarizer\n",
    "summarizer2 = LuhnSummarizer()\n",
    "summary2 = summarizer2(parser.document, 3)\n",
    "print(summary2)"
   ]
  },
  {
   "cell_type": "code",
   "execution_count": 25,
   "metadata": {},
   "outputs": [
    {
     "name": "stdout",
     "output_type": "stream",
     "text": [
      "(<Sentence: If you want to train your shoulder optimally, you should include exercises for all three parts of the shoulder in your training plan.>, <Sentence: Most basic upper body exercises train at least one part of the shoulder; however, the lateral shoulder in particular can also be trained through isolation exercises.>)\n"
     ]
    }
   ],
   "source": [
    "from sumy.summarizers.lsa import LsaSummarizer\n",
    "summarizer_lsa = LsaSummarizer()\n",
    "summary_lsa = summarizer_lsa(parser.document, 2)\n",
    "print(summary_lsa)"
   ]
  },
  {
   "cell_type": "code",
   "execution_count": 26,
   "metadata": {},
   "outputs": [
    {
     "name": "stdout",
     "output_type": "stream",
     "text": [
      "(<Sentence: If you want to train your shoulder optimally, you should include exercises for all three parts of the shoulder in your training plan.>, <Sentence: Most basic upper body exercises train at least one part of the shoulder; however, the lateral shoulder in particular can also be trained through isolation exercises.>)\n"
     ]
    }
   ],
   "source": [
    "from sumy.summarizers.kl import KLSummarizer\n",
    "summarizer_kl = LsaSummarizer()\n",
    "summary_kl = summarizer_kl(parser.document, 2)\n",
    "print(summary_kl)"
   ]
  }
 ],
 "metadata": {
  "interpreter": {
   "hash": "17d6da6eab60377015e7c6730aab454b44a1e5f4cca823d2fd075bc4aab7608b"
  },
  "kernelspec": {
   "display_name": "Python 3.9.7 64-bit ('IUI': conda)",
   "language": "python",
   "name": "python3"
  },
  "language_info": {
   "codemirror_mode": {
    "name": "ipython",
    "version": 3
   },
   "file_extension": ".py",
   "mimetype": "text/x-python",
   "name": "python",
   "nbconvert_exporter": "python",
   "pygments_lexer": "ipython3",
   "version": "3.9.2"
  },
  "orig_nbformat": 4
 },
 "nbformat": 4,
 "nbformat_minor": 2
}

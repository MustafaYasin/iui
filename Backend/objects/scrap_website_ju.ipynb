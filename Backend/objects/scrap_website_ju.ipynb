{
 "cells": [
  {
   "cell_type": "code",
   "execution_count": 1,
   "metadata": {},
   "outputs": [],
   "source": [
    "import requests\n",
    "from bs4 import BeautifulSoup"
   ]
  },
  {
   "cell_type": "code",
   "execution_count": 2,
   "metadata": {},
   "outputs": [],
   "source": [
    "def call_website(url):\n",
    "    main_url = \"https://www.uebungen.ws/\"\n",
    "    page = requests.get(main_url + url)\n",
    "    global soup \n",
    "    soup = BeautifulSoup(page.content, \"html.parser\")\n",
    "\n",
    "def muscle_description():\n",
    "    return soup.find(id=\"kategorienbeschreibung\").text\n",
    "\n",
    "def muscle_title():\n",
    "    return soup.find(\"h1\", class_= \"page-title\").text\n",
    "\n",
    "def subset_muscles():\n",
    "    subset_muscles = []\n",
    "    for item2 in soup.find_all(\"a\", class_=\"katauswahlboxlink\"):\n",
    "        subset_muscles.append(item2.get(\"title\"))\n",
    "    return subset_muscles\n",
    "\n",
    "def list_of_exercises():\n",
    "    exercise = []\n",
    "    for item in soup.find_all(class_= \"unterkategorie\"):\n",
    "        for item2 in item.find_all(\"article\", class_=\"content-list\"):\n",
    "            title = item2.find(\"h3\", class_=\"content-list-title\")\n",
    "            exercise.append(title.text)\n",
    "    return exercise\n",
    "    \n",
    "def list_of_sub_exercises():\n",
    "    sub_exercises = []\n",
    "    for item in soup.find_all(class_= \"content-list\"):\n",
    "        title = item.find(\"h3\", class_=\"content-list-title\")\n",
    "        sub_exercises.append(title.text)\n",
    "    return sub_exercises"
   ]
  },
  {
   "cell_type": "code",
   "execution_count": 3,
   "metadata": {},
   "outputs": [
    {
     "name": "stdout",
     "output_type": "stream",
     "text": [
      "Hintere Schulter\n",
      "Die hinteren Schultern (musculus deltoideus pars spinalis) sind ein Teil der Schultermuskulatur (musculus deltoideus). Dieser Teil, auch bezeichnet als Grätenteil, lässt sich kaum isoliert trainieren, denn der Trapezmuskel (musculus trapezius) wird meistens mitbeansprucht. Umgekehrt trainieren viele Übungen für den Trapezmuskel auch die hinteren Schultern. Grundsätzlich ist die hintere Schulter für das Zurückziehen und das nach außen Drehen des Armes zuständig. Ein besonders effektives Training der hinteren Schultern ist durch die Reverse Flys und die zahlreichen Varianten dieser Übung möglich. Die besten Übungen für diese Muskelpartie haben wir für euch gesammelt und erläutert.\n",
      "\n"
     ]
    },
    {
     "data": {
      "text/plain": [
       "['Reverse Flys',\n",
       " 'Butterfly Reverse',\n",
       " 'Rudern in Rückenlage',\n",
       " 'Reverse Flys am Kabelzug',\n",
       " 'Vorgebeugte Reverse Flys am Kabelzug',\n",
       " 'Reverse Flys mit dem Theraband',\n",
       " 'Reverse Flys auf dem Gymnastikball']"
      ]
     },
     "execution_count": 3,
     "metadata": {},
     "output_type": "execute_result"
    }
   ],
   "source": [
    "call_website(\"schultern/hintere-schulter\")\n",
    "print(muscle_title())\n",
    "print(muscle_description())\n",
    "list_of_sub_exercises()\n",
    "\n",
    "#muscle_title()"
   ]
  },
  {
   "cell_type": "code",
   "execution_count": 4,
   "metadata": {},
   "outputs": [],
   "source": [
    "muscle_title = soup.find(class_=\"page-title\")\n",
    "    # exercise_title, exercise_description, exercise_execution, equipment, target_muscles, excercise_level, synonym_titles, supporting_muscles, image, video_links"
   ]
  }
 ],
 "metadata": {
  "interpreter": {
   "hash": "17d6da6eab60377015e7c6730aab454b44a1e5f4cca823d2fd075bc4aab7608b"
  },
  "kernelspec": {
   "display_name": "Python 3.9.7 64-bit ('IUI': conda)",
   "language": "python",
   "name": "python3"
  },
  "language_info": {
   "codemirror_mode": {
    "name": "ipython",
    "version": 3
   },
   "file_extension": ".py",
   "mimetype": "text/x-python",
   "name": "python",
   "nbconvert_exporter": "python",
   "pygments_lexer": "ipython3",
   "version": "3.9.7"
  },
  "orig_nbformat": 4
 },
 "nbformat": 4,
 "nbformat_minor": 2
}

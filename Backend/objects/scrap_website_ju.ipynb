{
 "cells": [
  {
   "cell_type": "code",
   "execution_count": 16,
   "metadata": {},
   "outputs": [],
   "source": [
    "import requests\n",
    "from bs4 import BeautifulSoup\n",
    "\n",
    "import excercises\n",
    "import muscleGroup\n",
    "\n"
   ]
  },
  {
   "cell_type": "code",
   "execution_count": 20,
   "metadata": {},
   "outputs": [],
   "source": [
    "muscles = [\"schultern\", \"ruecken\"]\n",
    "\n",
    "def call_website():\n",
    "    URL = \"https://www.uebungen.ws/\" + muscles[0]\n",
    "    page = requests.get(URL)\n",
    "    global soup \n",
    "    soup = BeautifulSoup(page.content, \"html.parser\")\n",
    "\n",
    "    #print(soup)\n",
    "call_website()"
   ]
  },
  {
   "cell_type": "code",
   "execution_count": 56,
   "metadata": {},
   "outputs": [
    {
     "name": "stdout",
     "output_type": "stream",
     "text": [
      "Schultern\n",
      "['Hintere Schulter', 'Seitliche Schulter', 'Vordere Schulter']\n",
      "['Reverse Flys', 'Butterfly Reverse', 'Rudern in Rückenlage', 'Reverse Flys am Kabelzug', 'Vorgebeugte Reverse Flys am Kabelzug', 'Kurzhantel-Schulterdrücken', 'Seitheben', 'Schulterdrücken', 'Aufrechtes Rudern', 'Seitheben am Kabelzug', 'Kurzhantel-Schulterdrücken', 'Frontheben', 'Schulterdrücken', 'Military Press', 'Frontheben mit dem Theraband']\n"
     ]
    }
   ],
   "source": [
    "def scrape_muscle_content():\n",
    "    category_description = soup.find(id=\"kategorienbeschreibung\")\n",
    "    muscle_title = soup.find(\"h1\", class_= \"page-title\").text\n",
    "\n",
    "    subset_muscles = []\n",
    "    for item2 in soup.find_all(\"a\", class_=\"katauswahlboxlink\"):\n",
    "        subset_muscles.append(item2.get(\"title\"))\n",
    "    \n",
    "    #save all excersices in array\n",
    "    excercises = []\n",
    "    for item in soup.find_all(class_= \"unterkategorie\"):\n",
    "        for item2 in item.find_all(\"article\", class_=\"content-list\"):\n",
    "            title = item2.find(\"h3\", class_=\"content-list-title\")\n",
    "            excercises.append(title.text)\n",
    "    \n",
    "\n",
    "scrape_muscle_content()\n",
    "\n",
    "\n",
    "    "
   ]
  }
 ],
 "metadata": {
  "interpreter": {
   "hash": "17d6da6eab60377015e7c6730aab454b44a1e5f4cca823d2fd075bc4aab7608b"
  },
  "kernelspec": {
   "display_name": "Python 3.9.7 64-bit ('IUI': conda)",
   "language": "python",
   "name": "python3"
  },
  "language_info": {
   "codemirror_mode": {
    "name": "ipython",
    "version": 3
   },
   "file_extension": ".py",
   "mimetype": "text/x-python",
   "name": "python",
   "nbconvert_exporter": "python",
   "pygments_lexer": "ipython3",
   "version": "3.9.7"
  },
  "orig_nbformat": 4
 },
 "nbformat": 4,
 "nbformat_minor": 2
}

{
 "cells": [
  {
   "cell_type": "code",
   "execution_count": 1,
   "metadata": {},
   "outputs": [],
   "source": [
    "import requests\n",
    "from bs4 import BeautifulSoup\n",
    "import re"
   ]
  },
  {
   "cell_type": "code",
   "execution_count": 2,
   "metadata": {},
   "outputs": [],
   "source": [
    "def call_website(url):\n",
    "    main_url = \"https://www.uebungen.ws/\"\n",
    "    page = requests.get(main_url + url)\n",
    "    global soup \n",
    "    soup = BeautifulSoup(page.content, \"html.parser\")\n",
    "    #print(soup)\n",
    "\n",
    "def muscle_description():\n",
    "    return soup.find(id=\"kategorienbeschreibung\").text\n",
    "\n",
    "def muscle_title():\n",
    "    return soup.find(\"h1\", class_= \"page-title\").text\n",
    "\n",
    "def subset_muscles():\n",
    "    subset_muscles = []\n",
    "    for item2 in soup.find_all(\"a\", class_=\"katauswahlboxlink\"):\n",
    "        subset_muscles.append(item2.get(\"title\"))\n",
    "    return subset_muscles\n",
    "\n",
    "def list_of_exercises():\n",
    "    exercise = []\n",
    "    for item in soup.find_all(class_= \"unterkategorie\"):\n",
    "        for item2 in item.find_all(\"article\", class_=\"content-list\"):\n",
    "            title = item2.find(\"h3\", class_=\"content-list-title\")\n",
    "            exercise.append(title.text)\n",
    "    return exercise\n",
    "    \n",
    "def list_of_sub_exercises():\n",
    "    sub_exercises = []\n",
    "    for item in soup.find_all(class_= \"content-list\"):\n",
    "        title = item.find(\"h3\", class_=\"content-list-title\")\n",
    "        sub_exercises.append(title.text)\n",
    "    return sub_exercises\n"
   ]
  },
  {
   "cell_type": "code",
   "execution_count": 3,
   "metadata": {},
   "outputs": [],
   "source": [
    "def exercise_title():\n",
    "    return soup.find(\"h1\", class_= \"entry-title\").text\n",
    "\n",
    "def muscle_title():\n",
    "    return\"\"\n",
    "\n",
    "def muscle_image():\n",
    "    return soup.find(\"img\", class_=\"muskelbild\").get('src')\n",
    "\n",
    "def equipment():\n",
    "    return soup.find(string=re.compile(\"Benötigtes Equipment:\")).parent.next_sibling.next_sibling.text\n",
    "\n",
    "def exercise_level():\n",
    "    return soup.find(string=re.compile(\"Schwierigkeitsgrad:\")).parent.next_sibling.next_sibling.text\n",
    "\n",
    "def target_muscles():\n",
    "    return soup.find(string=re.compile(\"Zielmuskeln:\")).parent.next_sibling.next_sibling.text\n",
    "\n",
    "def supporting_muscles():\n",
    "    return soup.find(string=re.compile(\"Unterstützende Muskulatur:\")).parent.next_sibling.next_sibling.text\n",
    "\n",
    "def synonym_titles():\n",
    "    return soup.find(string=re.compile(\"Weitere Bezeichnungen:\")).parent.next_sibling.next_sibling.text\n",
    "\n",
    "\n",
    "\n",
    "def exercise_execution():\n",
    "    return \"\"\n",
    "\n",
    "def video_links():\n",
    "    return \"\"\n",
    "\n"
   ]
  },
  {
   "cell_type": "code",
   "execution_count": 12,
   "metadata": {},
   "outputs": [
    {
     "name": "stdout",
     "output_type": "stream",
     "text": [
      "['Die vorgebeugten Reverse Flys sind eine eher weniger häufig zu beobachtende Übung auf der Trainingsfläche. Obwohl die Übung für die hintere Schulter und den Nacken hervorragend geeignet ist, möchten wir auf die nicht weniger effektiven Alternativen hinweisen. Verbreitet sind insbesondere die Reverse Flys am Kabelzug und die Reverse Flys am Butterfly-Gerät. Unter diesem Artikel findet ihr weitere Varianten mit Bild.', 'Die Reverse Flys zielen hauptsächlich auf die Stärkung des hinteren Teils des Deltamuskels (musculus deltoideus pars spinalis) und des mittleren Teils des Kapuzenmuskels (musculus trapezius pars transversa).']\n"
     ]
    }
   ],
   "source": [
    "# make better solution to get whole text\n",
    "def exercise_description():\n",
    "    description = soup.find(string=re.compile(\"Erklärung der Übung\")).parent\n",
    "    #content_length = len(soup.find(class_=\"entry-content\"))\n",
    "    description_text = []\n",
    "\n",
    "    sibling1 = description.next_sibling.next_sibling\n",
    "    if sibling1.name != \"div\":\n",
    "        description_text.append(sibling1.text)\n",
    "\n",
    "    sibling2 = sibling1.next_sibling.next_sibling\n",
    "    if sibling2.name != \"div\":\n",
    "        description_text.append(sibling2.text)\n",
    "\n",
    "    \n",
    "    return description_text\n",
    "    \n",
    "call_website(\"reverse-fly\")\n",
    "#print(exercise_title())\n",
    "#print(muscle_title())\n",
    "#print(muscle_image())\n",
    "#print(equipment())\n",
    "#print(exercise_level())\n",
    "#print(target_muscles())\n",
    "#print(supporting_muscles())\n",
    "#print(synonym_titles())\n",
    "print(exercise_description())\n",
    "#print(exercise_execution())\n",
    "#print(video_links())"
   ]
  },
  {
   "cell_type": "code",
   "execution_count": 5,
   "metadata": {},
   "outputs": [],
   "source": [
    "muscle_title = soup.find(class_=\"page-title\")\n",
    "    # exercise_title, exercise_description, exercise_execution, equipment, target_muscles, excercise_level, synonym_titles, supporting_muscles, image, video_links"
   ]
  }
 ],
 "metadata": {
  "interpreter": {
   "hash": "17d6da6eab60377015e7c6730aab454b44a1e5f4cca823d2fd075bc4aab7608b"
  },
  "kernelspec": {
   "display_name": "Python 3.9.7 64-bit ('IUI': conda)",
   "language": "python",
   "name": "python3"
  },
  "language_info": {
   "codemirror_mode": {
    "name": "ipython",
    "version": 3
   },
   "file_extension": ".py",
   "mimetype": "text/x-python",
   "name": "python",
   "nbconvert_exporter": "python",
   "pygments_lexer": "ipython3",
   "version": "3.9.7"
  },
  "orig_nbformat": 4
 },
 "nbformat": 4,
 "nbformat_minor": 2
}
